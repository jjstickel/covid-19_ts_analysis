{
 "cells": [
  {
   "cell_type": "markdown",
   "metadata": {},
   "source": [
    "# COVID-19 time-series analysis\n",
    "\n",
    "Jonathan Stickel, 2020\n",
    "\n",
    "This purpose of this notebook (and repository) is to make available a set of time-series\n",
    "analyses of COVID-19 data. Data sources are:\n",
    "\n",
    "- https://github.com/CSSEGISandData/COVID-19 (Johns Hopkins CSSE COVID-19 data)\n",
    "- https://data.worldbank.org/indicator/sp.pop.totl (population data)\n",
    "\n",
    "By default, the COVID-19 data is grabbed from the Johns Hopkins CSSE github.com repository. When using this notebook on a local machine, you may instead clone the repo to an adjent folder and keep it up-to-date (see arguments to `covid19_global` function).\n",
    "\n",
    "Dependencies are:\n",
    "\n",
    "- `numpy`\n",
    "- `pandas`\n",
    "- `matplotlib`\n",
    "- `cvxopt`\n",
    "- `scikit.datasmooth` (can be pip installed)\n",
    "\n",
    "Also, `covid19ts` is part of this repository.\n",
    "\n",
    "Click on this link for a web-based \"live\" notebook (it may take awhile to load, be patient):\n",
    "[![Binder](https://mybinder.org/badge_logo.svg)](https://mybinder.org/v2/gh/jjstickel/covid-19_ts_analysis.git/master?filepath=analyze_covide_time_series_notebook.ipynb)\n"
   ]
  },
  {
   "cell_type": "code",
   "execution_count": null,
   "metadata": {},
   "outputs": [],
   "source": [
    "# import modules\n",
    "import numpy as np\n",
    "# locally defined modules\n",
    "from covid19ts import covid19_global, covid19_US\n",
    "import covid_plots as cvp"
   ]
  },
  {
   "cell_type": "markdown",
   "metadata": {},
   "source": [
    "# User input\n",
    "\n",
    "Put up to 5 countries of interest in the `countries` list. Must be the same name used in the J-H global files, and (at the moment), it must be a single entry in the file (e.g., China has multiple entries and will cause an Exception). At the moment, `US` must be in the list because it is included in all of the US plots."
   ]
  },
  {
   "cell_type": "code",
   "execution_count": null,
   "metadata": {},
   "outputs": [],
   "source": [
    "countries = [\"US\", \"Italy\", \"Spain\", \"Germany\", \"Iran\"]"
   ]
  },
  {
   "cell_type": "markdown",
   "metadata": {},
   "source": [
    "Put up to 4 US locations (state, county, or city) in the `US_locs` list. Must be the same name used in the J-H US files. \n",
    "\n",
    "NOTE:  unfortunately, there are no pre-consolidated state data in the J-H data files. To get state data, I sum all the state entries, which, for for a few states, double-counts numbers when they are given as both county and city entries. The affect is muted when showing per-capita numbers, but cities will still have extra weighting over rural areas as a consequence."
   ]
  },
  {
   "cell_type": "code",
   "execution_count": 1,
   "metadata": {},
   "outputs": [],
   "source": [
    "US_locs = [\"Colorado\", \"California\", \"New York\", \"Washington\"]\n",
    "# example list with a city location, `New York, New York`\n",
    "#US_locs = [\"Colorado\", \"California\", \"New York\", \"New York, New York\"]"
   ]
  },
  {
   "cell_type": "markdown",
   "metadata": {},
   "source": [
    "Read in Johns Hopkins CSSE COVID-19 timeseries data for the locations specified and perform these operations:\n",
    "- normalize cases to be per capita\n",
    "- smooth the cases data\n",
    "- set time-zero for each location and shift elapsed time in days\n",
    "- determine rates (i.e., the derivative) for cases"
   ]
  },
  {
   "cell_type": "code",
   "execution_count": null,
   "metadata": {},
   "outputs": [],
   "source": [
    "# global data\n",
    "corona = covid19_global(countries)\n",
    "# extract common variables for ease-of-use\n",
    "mult = corona[\"mult\"]\n",
    "critlow = corona[\"critlow\"]\n",
    "nctry = len(countries)\n",
    "dates = corona[\"dates\"]\n",
    "# US data\n",
    "coronaUS = covid19_US(US_locs)\n",
    "if not np.alltrue(corona[\"dates\"] == coronaUS[\"dates\"]):\n",
    "    raise ValueError(\"the dates from the global and US files do not match\")\n",
    "nUSloc = len(US_locs)"
   ]
  },
  {
   "cell_type": "markdown",
   "metadata": {},
   "source": [
    "Determine an exponential fit for the early part of the confirmed cases. As will be observed in the plots, it does not take very long before the growth of cases slows from exponential. Initial doubling time is printed out after the code block."
   ]
  },
  {
   "cell_type": "code",
   "execution_count": null,
   "metadata": {},
   "outputs": [],
   "source": [
    "# compute exponential fit to confirmed cases\n",
    "def expfit(t, y):\n",
    "    \"\"\"\n",
    "    fit data to exponential function\n",
    "    \"\"\"\n",
    "    k, lna = np.polyfit(t, np.log(y), 1)\n",
    "    return np.exp(lna), k\n",
    "\n",
    "crithigh = 200*1e-6 # upper bound for exponential fit, for fitting confirmed\n",
    "for country in countries:\n",
    "    ctryd = corona[country]\n",
    "    criteval = ctryd['cnf_pc'] < crithigh*mult\n",
    "    idx0 = ctryd['idx0']\n",
    "    idx1 = np.nonzero(criteval)[0][-1]\n",
    "    a, k = expfit(ctryd['days'][idx0:idx1], ctryd['cnf_pc'][idx0:idx1])\n",
    "    dt2in = np.log(2)/k\n",
    "    print(\"initial doubling time for %s was %g days\" % (country, dt2in))\n",
    "    ctryd['a'] = a\n",
    "    ctryd['k'] = k\n",
    "    ctryd['dt2in'] = dt2in\n",
    "    ctryd['cnf_expfit'] = a*np.exp(k*ctryd['days'])"
   ]
  },
  {
   "cell_type": "markdown",
   "metadata": {},
   "source": [
    "*Calculate* \"active\" cases by $a = c - d -r$ ($a=$ active, $c=$ confirmed, $d=$ deaths, and $r=$ recovered). Also, *estimate* active cases by presuming all confirmed cases have recovered or died in an aeverage number of days. Estimate of recovery time from:\n",
    "- https://www.thelancet.com/journals/laninf/article/PIIS1473-3099(20)30243-7/fulltext\n",
    "- https://towardsdatascience.com/visual-notes-from-singapores-first-100-fully-recovered-covid-19-patients-aad7f2e1d0a0\n",
    "\n",
    "Recovered data is not available for internal US locations, and so only an estimate of active cases is calculated."
   ]
  },
  {
   "cell_type": "code",
   "execution_count": null,
   "metadata": {},
   "outputs": [],
   "source": [
    "rectime = 14 # days, 1 day = 1 data point -- you can change this number to see the affect on estimated acive cases\n",
    "for country in countries:\n",
    "    ctryd = corona[country]\n",
    "    # calculate active cased based on JH data\n",
    "    ctryd[\"acv_pc\"] = ctryd[\"cnf_pc\"] - ctryd[\"dth_pc\"] - ctryd[\"rec_pc\"]\n",
    "    # estimate active cases based on an \"average\" recovery time\n",
    "    ctryd[\"acvest_pc\"] = ctryd[\"cnf_pc\"].copy()\n",
    "    ctryd[\"acvest_pc\"][rectime:] = ctryd[\"acvest_pc\"][rectime:] - ctryd[\"cnf_pc\"][:-rectime]\n",
    "    # recovered estimate -- not sure of the value of this...\n",
    "    ctryd[\"recest_pc\"] = ctryd[\"cnf_pc\"] - ctryd[\"dth_pc\"] - ctryd[\"acv_pc\"]\n",
    "for loc in US_locs:\n",
    "    locd = coronaUS[loc]\n",
    "    locd[\"acvest_pc\"] = locd[\"cnf_pc\"].copy()\n",
    "    locd[\"acvest_pc\"][rectime:] = locd[\"acvest_pc\"][rectime:] - locd[\"cnf_pc\"][:-rectime]"
   ]
  },
  {
   "cell_type": "markdown",
   "metadata": {},
   "source": [
    "# Plotting"
   ]
  },
  {
   "cell_type": "code",
   "execution_count": null,
   "metadata": {},
   "outputs": [],
   "source": [
    "# plot setup\n",
    "rcParams.update({'font.size': 14})\n",
    "cvp.fw = 8\n",
    "cvp.fh = 6\n",
    "cvp.critlow_readable(corona) # provide convenient readable terms for time labeling"
   ]
  },
  {
   "cell_type": "markdown",
   "metadata": {},
   "source": [
    "# Total cases (confirmed and deaths), not scaled"
   ]
  },
  {
   "cell_type": "code",
   "execution_count": null,
   "metadata": {},
   "outputs": [],
   "source": [
    "cvp.total_global_plot(corona)"
   ]
  },
  {
   "cell_type": "markdown",
   "metadata": {},
   "source": [
    "Points are the data, lines are smoothing fit. I did not create this plot for US locations because the scale differences would render it not very useful."
   ]
  },
  {
   "cell_type": "markdown",
   "metadata": {},
   "source": [
    "# Per capita cases (confirmed and deaths) with elapsed number of days from a specified time zero as indicated in the x-axis"
   ]
  },
  {
   "cell_type": "code",
   "execution_count": null,
   "metadata": {},
   "outputs": [],
   "source": [
    "cvp.per_capita_global_plot(corona)"
   ]
  },
  {
   "cell_type": "markdown",
   "metadata": {},
   "source": [
    "On a per capita basis, the US is actually fairing OK compared to some European countries (e.g., Spain and Italy). The dashed lines are exponential fits to the early-time confirmed cases. Despite all the talk about COVID-19 growing exponentially, exponential growth did not last very long at all. Now growth is linear or sublinear for many countries, as will be shown in the subsequent plots of *growth rates*."
   ]
  },
  {
   "cell_type": "code",
   "execution_count": null,
   "metadata": {},
   "outputs": [],
   "source": [
    "cvp.per_capita_US_plot(coronaUS, corona)"
   ]
  },
  {
   "cell_type": "markdown",
   "metadata": {},
   "source": [
    "US local per capita data."
   ]
  },
  {
   "cell_type": "markdown",
   "metadata": {},
   "source": [
    "# Per capita growth rates (confirmed and deaths)"
   ]
  },
  {
   "cell_type": "code",
   "execution_count": null,
   "metadata": {},
   "outputs": [],
   "source": [
    "cvp.rate_global_plot(corona)"
   ]
  },
  {
   "cell_type": "markdown",
   "metadata": {},
   "source": [
    "Growth rate is the derivative of the cases (i.e., instantaneous slope for each day). Rates for some countries have decreased from their peak but seem to have continued linear growth (i.e., a flat rate). "
   ]
  },
  {
   "cell_type": "code",
   "execution_count": null,
   "metadata": {},
   "outputs": [],
   "source": [
    "cvp.rate_US_plot(coronaUS, corona)"
   ]
  },
  {
   "cell_type": "markdown",
   "metadata": {},
   "source": [
    "US local rate data."
   ]
  },
  {
   "cell_type": "markdown",
   "metadata": {},
   "source": [
    "# Active cases and case fatality ratio (CFR)"
   ]
  },
  {
   "cell_type": "code",
   "execution_count": null,
   "metadata": {},
   "outputs": [],
   "source": [
    "cvp.active_CFR_global_plot(corona)"
   ]
  },
  {
   "cell_type": "markdown",
   "metadata": {},
   "source": [
    "Have we peaked? A curve of active cases would help us answer this. Active cases can be calculated easily from data from confirmed, deaths, and recovered. Unfortunately, data for recovered cases is still not very good ([see here](https://www.cnn.com/2020/04/04/health/recovery-coronavirus-tracking-data-explainer/index.html)). For that reason, I also estimate active cases by presuming that all confirmed cases are resolved (dead or recovered) in an average number of days (I estimated recovery time to be 14 days based on the links I provided above). The symbols are the calculated active cases and the lines are the estimated active cases. By the estimated numbers, some countries have peaked, but definitely not the US yet (as of 4/11/20).\n",
    "\n",
    "The \"case fatality ratio\", or *CFR*, is an indication of how deadly a disease is. It is only an indication because it is limited by how many actual cases are measured and *confirmed*. Here, we see that the US is doing pretty good compared to other countries. There is a lot of talk about how we are not doing enough testing and that the confirmed numbers are low. Therefore, more testing would increase the denominator of the ratio and would make the CFR *even lower*. (Note: the CFR is commonly called the case fatality *rate*. The use of the word rate here is technically incorrect---rate refers to something changing over *time*. [More info here](https://ourworldindata.org/coronavirus?fbclid=IwAR3zOvtt7gqkhitoHJ_lXDr3eDeE_JPtfukpOkY94PSaBm_hmrMvWCXWFpg#what-do-we-know-about-the-risk-of-dying-from-covid-19))"
   ]
  },
  {
   "cell_type": "code",
   "execution_count": null,
   "metadata": {},
   "outputs": [],
   "source": [
    "cvp.active_CFR_US_plot(coronaUS, corona)"
   ]
  },
  {
   "cell_type": "markdown",
   "metadata": {},
   "source": [
    "US local active cases and CFR. Active cases are only calculated by the estimation formula."
   ]
  },
  {
   "cell_type": "markdown",
   "metadata": {},
   "source": [
    "# Some other plots"
   ]
  },
  {
   "cell_type": "code",
   "execution_count": null,
   "metadata": {},
   "outputs": [],
   "source": [
    "cvp.log_confirmed_plot(corona)"
   ]
  },
  {
   "cell_type": "markdown",
   "metadata": {},
   "source": [
    "This plot shows confirmed cases (per capita) on a semilog scale. A number of plots shown on the web are on a log scale like this, which would make sense if growth was truly exponential (the dashed lines are the exponential fits and appear linear here). Since growth is not exponential for long, I personally do not think using a log scale is appropriate. Most people without scientific training have a hard time interpreting log-scale figures."
   ]
  },
  {
   "cell_type": "code",
   "execution_count": null,
   "metadata": {
    "lines_to_next_cell": 0
   },
   "outputs": [],
   "source": [
    "cvp.confirmed_deaths_simul_global_plot(corona)"
   ]
  },
  {
   "cell_type": "markdown",
   "metadata": {},
   "source": [
    "This plot compares the trends of confirmed cases vs. deaths. Larger points and solid lines are confirmed, and smaller points and dotted lines are deaths."
   ]
  }
 ],
 "metadata": {
  "jupytext": {
   "cell_metadata_filter": "-all",
   "formats": "md,ipynb",
   "notebook_metadata_filter": "-all",
   "text_representation": {
    "extension": ".md",
    "format_name": "markdown"
   }
  },
  "kernelspec": {
   "display_name": "Python 3",
   "language": "python",
   "name": "python3"
  },
  "language_info": {
   "codemirror_mode": {
    "name": "ipython",
    "version": 3
   },
   "file_extension": ".py",
   "mimetype": "text/x-python",
   "name": "python",
   "nbconvert_exporter": "python",
   "pygments_lexer": "ipython3",
   "version": "3.6.10"
  }
 },
 "nbformat": 4,
 "nbformat_minor": 2
}
